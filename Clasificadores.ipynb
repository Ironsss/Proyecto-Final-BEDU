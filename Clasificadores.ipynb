{
  "nbformat": 4,
  "nbformat_minor": 0,
  "metadata": {
    "kernelspec": {
      "display_name": "Python 3",
      "language": "python",
      "name": "python3"
    },
    "language_info": {
      "codemirror_mode": {
        "name": "ipython",
        "version": 3
      },
      "file_extension": ".py",
      "mimetype": "text/x-python",
      "name": "python",
      "nbconvert_exporter": "python",
      "pygments_lexer": "ipython3",
      "version": "3.6.9"
    },
    "colab": {
      "name": "Clasificadores.ipynb",
      "provenance": []
    }
  },
  "cells": [
    {
      "cell_type": "markdown",
      "metadata": {
        "id": "tMZVMGo7GJcN"
      },
      "source": [
        "### Clasificadores elaborados por lenguaje supervisado\n",
        "\n",
        "> 19/01/2021\n",
        "\n",
        "> David A. García Espinosa"
      ]
    },
    {
      "cell_type": "markdown",
      "metadata": {
        "id": "mr7WVOa1GJcO"
      },
      "source": [
        "### Bases de datos de pruebas"
      ]
    },
    {
      "cell_type": "code",
      "metadata": {
        "id": "AAe7rz5JGJcO"
      },
      "source": [
        "import mglearn as mglearn\n",
        "import matplotlib.pyplot as plt\n",
        "import pandas as pd\n",
        "import numpy as np "
      ],
      "execution_count": null,
      "outputs": []
    },
    {
      "cell_type": "code",
      "metadata": {
        "id": "x6KjrQWDGJcO",
        "outputId": "61943fe5-3a1b-494c-bacb-17545a775760"
      },
      "source": [
        "# generar el dataset proveniente de mglearn\n",
        "X, y = mglearn.datasets.make_forge()\n",
        "\n",
        "# plot \n",
        "mglearn.discrete_scatter(X[:, 0], X[:, 1], y)\n",
        "plt.legend([\"Class 0\", \"Class 1\"], loc=4)\n",
        "plt.xlabel(\"First feature\")\n",
        "plt.ylabel(\"Second feature\")\n",
        "print(\"X.shape: {}\".format(X.shape))"
      ],
      "execution_count": null,
      "outputs": [
        {
          "output_type": "stream",
          "text": [
            "/usr/local/lib/python3.6/dist-packages/sklearn/utils/deprecation.py:86: FutureWarning: Function make_blobs is deprecated; Please import make_blobs directly from scikit-learn\n",
            "  warnings.warn(msg, category=FutureWarning)\n"
          ],
          "name": "stderr"
        },
        {
          "output_type": "stream",
          "text": [
            "X.shape: (26, 2)\n"
          ],
          "name": "stdout"
        },
        {
          "output_type": "display_data",
          "data": {
            "image/png": "[encoded data removed]",
            "text/plain": [
              "<Figure size 432x288 with 1 Axes>"
            ]
          },
          "metadata": {
            "tags": [],
            "needs_background": "light"
          }
        }
      ]
    },
    {
      "cell_type": "code",
      "metadata": {
        "id": "khixurXCGJcP",
        "outputId": "2afbd129-4f4f-4127-93ce-4854133a9605"
      },
      "source": [
        "X, y = mglearn.datasets.make_wave(n_samples=40)\n",
        "plt.plot(X, y, 'o')\n",
        "plt.ylim(-3, 3)\n",
        "plt.xlabel(\"Feature\")\n",
        "plt.ylabel(\"Target\")"
      ],
      "execution_count": null,
      "outputs": [
        {
          "output_type": "execute_result",
          "data": {
            "text/plain": [
              "Text(0, 0.5, 'Target')"
            ]
          },
          "metadata": {
            "tags": []
          },
          "execution_count": 3
        },
        {
          "output_type": "display_data",
          "data": {
            "image/png": "[encoded data removed]",
            "text/plain": [
              "<Figure size 432x288 with 1 Axes>"
            ]
          },
          "metadata": {
            "tags": [],
            "needs_background": "light"
          }
        }
      ]
    },
    {
      "cell_type": "code",
      "metadata": {
        "id": "_RxFQS-eGJcP",
        "outputId": "14b03d07-5fb4-4293-d979-d62052325bc0"
      },
      "source": [
        "from sklearn.datasets import load_breast_cancer\n",
        "cancer = load_breast_cancer()\n",
        "print(\"cancer.keys(): \\n{}\".format(cancer.keys()))\n",
        "print(\"Shape of cancer data: {}\".format(cancer.data.shape))\n",
        "print(\"Feature names:\\n{}\".format(cancer.feature_names))"
      ],
      "execution_count": null,
      "outputs": [
        {
          "output_type": "stream",
          "text": [
            "cancer.keys(): \n",
            "dict_keys(['data', 'target', 'frame', 'target_names', 'DESCR', 'feature_names', 'filename'])\n",
            "Shape of cancer data: (569, 30)\n",
            "Feature names:\n",
            "['mean radius' 'mean texture' 'mean perimeter' 'mean area'\n",
            " 'mean smoothness' 'mean compactness' 'mean concavity'\n",
            " 'mean concave points' 'mean symmetry' 'mean fractal dimension'\n",
            " 'radius error' 'texture error' 'perimeter error' 'area error'\n",
            " 'smoothness error' 'compactness error' 'concavity error'\n",
            " 'concave points error' 'symmetry error' 'fractal dimension error'\n",
            " 'worst radius' 'worst texture' 'worst perimeter' 'worst area'\n",
            " 'worst smoothness' 'worst compactness' 'worst concavity'\n",
            " 'worst concave points' 'worst symmetry' 'worst fractal dimension']\n"
          ],
          "name": "stdout"
        }
      ]
    },
    {
      "cell_type": "markdown",
      "metadata": {
        "id": "8-gZp3HiGJcQ"
      },
      "source": [
        "### Vecinos cercanos (KNN)\n",
        "\n",
        "> En pocas palabras es el modelo más sencillo de clasifiación por lenguaje supervisado debido a su simplicidad, encontrar los elementos más cercanos entre estos."
      ]
    },
    {
      "cell_type": "code",
      "metadata": {
        "id": "KLyaoT_SGJcQ",
        "outputId": "0234b65e-b426-4a2c-8f47-9d87618dae90"
      },
      "source": [
        "\n",
        "mglearn.plots.plot_knn_classification(n_neighbors=1)\n",
        "plt.title('Ejemplo con pocos elementos 1 vecino')\n",
        "plt.xlabel('Característica 1')\n",
        "plt.ylabel('Característica 2')"
      ],
      "execution_count": null,
      "outputs": [
        {
          "output_type": "stream",
          "text": [
            "/usr/local/lib/python3.6/dist-packages/sklearn/utils/deprecation.py:86: FutureWarning: Function make_blobs is deprecated; Please import make_blobs directly from scikit-learn\n",
            "  warnings.warn(msg, category=FutureWarning)\n"
          ],
          "name": "stderr"
        },
        {
          "output_type": "execute_result",
          "data": {
            "text/plain": [
              "Text(0, 0.5, 'Característica 2')"
            ]
          },
          "metadata": {
            "tags": []
          },
          "execution_count": 5
        },
        {
          "output_type": "display_data",
          "data": {
            "image/png": "[encoded data removed]",
            "text/plain": [
              "<Figure size 432x288 with 1 Axes>"
            ]
          },
          "metadata": {
            "tags": [],
            "needs_background": "light"
          }
        }
      ]
    },
    {
      "cell_type": "code",
      "metadata": {
        "id": "DytY-FehGJcQ",
        "outputId": "e1445e51-d839-4329-b7be-b6a78c49a238"
      },
      "source": [
        "mglearn.plots.plot_knn_classification(n_neighbors=3)\n",
        "plt.title('Ejemplo con pocos elementos KNN 3 vecinos')\n",
        "plt.xlabel('Característica 1')\n",
        "plt.ylabel('Característica 2')\n"
      ],
      "execution_count": null,
      "outputs": [
        {
          "output_type": "stream",
          "text": [
            "/usr/local/lib/python3.6/dist-packages/sklearn/utils/deprecation.py:86: FutureWarning: Function make_blobs is deprecated; Please import make_blobs directly from scikit-learn\n",
            "  warnings.warn(msg, category=FutureWarning)\n"
          ],
          "name": "stderr"
        },
        {
          "output_type": "execute_result",
          "data": {
            "text/plain": [
              "Text(0, 0.5, 'Característica 2')"
            ]
          },
          "metadata": {
            "tags": []
          },
          "execution_count": 6
        },
        {
          "output_type": "display_data",
          "data": {
            "image/png": "[encoded data removed]",
            "text/plain": [
              "<Figure size 432x288 with 1 Axes>"
            ]
          },
          "metadata": {
            "tags": [],
            "needs_background": "light"
          }
        }
      ]
    },
    {
      "cell_type": "markdown",
      "metadata": {
        "id": "nsq332FyGJcQ"
      },
      "source": [
        "> De esta forma podemos ver que el modelo mide que elemento del conjunto de entrenamiento se encunra más cercao del set de datos de prueba, para este caso sólo se considera un elemento cercano (con distancia mínima entre los dos), sin embargo puede realizarse par 3,4,5...k vecinos de ahí que venga el nombre de vecinos cercanos."
      ]
    },
    {
      "cell_type": "markdown",
      "metadata": {
        "id": "vLGyplUQGJcQ"
      },
      "source": [
        "> Entonces para el caso de k veciones y una clase positivo o negativa se asginará una clasificación a una de estas categorías para todos los elementos del set de prueba, siendo que para el mayor número de  veciones con esa categoría será la categoría asignada.\n"
      ]
    },
    {
      "cell_type": "code",
      "metadata": {
        "id": "RSyu7R5UGJcR",
        "outputId": "66b7da8a-6dbf-4a10-d231-56052857088c"
      },
      "source": [
        "#Utilizando el mismo set de ejemplo preparamos el set de datos para la aplicación del modelo \n",
        "# Lo primero es una segmentación de la base de datos para tener un set de prueba y uno de entrenaiento.\n",
        "\n",
        "from sklearn.model_selection import train_test_split # Principal función de split\n",
        "\n",
        "X, y = mglearn.datasets.make_forge()\n",
        "X_train, X_test, y_train, y_test = train_test_split(X, y, random_state=0)"
      ],
      "execution_count": null,
      "outputs": [
        {
          "output_type": "stream",
          "text": [
            "/usr/local/lib/python3.6/dist-packages/sklearn/utils/deprecation.py:86: FutureWarning: Function make_blobs is deprecated; Please import make_blobs directly from scikit-learn\n",
            "  warnings.warn(msg, category=FutureWarning)\n"
          ],
          "name": "stderr"
        }
      ]
    },
    {
      "cell_type": "code",
      "metadata": {
        "id": "dlu4zLPVGJcR",
        "outputId": "88c110ba-7beb-4265-d79a-22fa735f7c22"
      },
      "source": [
        "X_train"
      ],
      "execution_count": null,
      "outputs": [
        {
          "output_type": "execute_result",
          "data": {
            "text/plain": [
              "array([[ 8.92229526, -0.63993225],\n",
              "       [ 8.7337095 ,  2.49162431],\n",
              "       [ 9.32298256,  5.09840649],\n",
              "       [ 7.99815287,  4.8525051 ],\n",
              "       [11.0329545 , -0.16816717],\n",
              "       [ 9.17748385,  5.09283177],\n",
              "       [11.563957  ,  1.3389402 ],\n",
              "       [ 9.15072323,  5.49832246],\n",
              "       [ 8.34810316,  5.13415623],\n",
              "       [11.93027136,  4.64866327],\n",
              "       [ 8.1062269 ,  4.28695977],\n",
              "       [ 8.67494727,  4.47573059],\n",
              "       [ 9.67284681, -0.20283165],\n",
              "       [ 9.50169345,  1.93824624],\n",
              "       [ 8.69289001,  1.54322016],\n",
              "       [ 9.96346605,  4.59676542],\n",
              "       [ 9.50048972, -0.26430318],\n",
              "       [ 9.25694192,  5.13284858],\n",
              "       [ 8.68937095,  1.48709629]])"
            ]
          },
          "metadata": {
            "tags": []
          },
          "execution_count": 8
        }
      ]
    },
    {
      "cell_type": "code",
      "metadata": {
        "id": "YWyMak9CGJcR"
      },
      "source": [
        "# Inicializamos las condiciones para el modelo ajustando los vecinos a 3 para dos categorías\n",
        "\n",
        "from sklearn.neighbors import KNeighborsClassifier\n",
        "clf = KNeighborsClassifier(n_neighbors=3)"
      ],
      "execution_count": null,
      "outputs": []
    },
    {
      "cell_type": "code",
      "metadata": {
        "id": "-sjT8cpbGJcR",
        "outputId": "b6fe349d-d3b3-4324-d98a-89e67aa190c5"
      },
      "source": [
        "# Entrenamos el modelo con el método .fit\n",
        "\n",
        "clf.fit(X_train, y_train)"
      ],
      "execution_count": null,
      "outputs": [
        {
          "output_type": "execute_result",
          "data": {
            "text/plain": [
              "KNeighborsClassifier(n_neighbors=3)"
            ]
          },
          "metadata": {
            "tags": []
          },
          "execution_count": 10
        }
      ]
    },
    {
      "cell_type": "code",
      "metadata": {
        "id": "oR-MJY8rGJcR",
        "outputId": "77cb2975-82ab-4540-90ac-4a1c77cf3495"
      },
      "source": [
        "# Predicciones de los elementos en el set de entrenamiento posterior al entrenamiento evaluando\n",
        "# con los elementos de prueba \n",
        "\n",
        "print(\"Test set predictions: {}\".format(clf.predict(X_test)))"
      ],
      "execution_count": null,
      "outputs": [
        {
          "output_type": "stream",
          "text": [
            "Test set predictions: [1 0 1 0 1 0 0]\n"
          ],
          "name": "stdout"
        }
      ]
    },
    {
      "cell_type": "code",
      "metadata": {
        "id": "BZwVhwHrGJcS",
        "outputId": "775ecee9-7a32-4c95-d74b-6f0a7918f959"
      },
      "source": [
        "# Para evaluar que tan bien se ejecuta el modelo se hace una puntuación cruzada utilizando los datos en x,y \n",
        "# del set de prueba.\n",
        "\n",
        "print(\"Test set accuracy: {:.2f}\".format(clf.score(X_test, y_test)))\n",
        "\n",
        "# Es decir el modelo funciona para un 86% de los datos."
      ],
      "execution_count": null,
      "outputs": [
        {
          "output_type": "stream",
          "text": [
            "Test set accuracy: 0.86\n"
          ],
          "name": "stdout"
        }
      ]
    },
    {
      "cell_type": "code",
      "metadata": {
        "id": "xWAwhclNGJcS",
        "outputId": "36b0f786-79e4-4619-e274-05a29ff0017b"
      },
      "source": [
        "# Para un clasificador con dos características\n",
        "\n",
        "ig, axes = plt.subplots(1, 3, figsize=(10, 3))\n",
        "for n_neighbors, ax in zip([1, 3, 9], axes):\n",
        "    \n",
        "# the fit method returns the object self, so we can instantiate\n",
        "# and fit in one line\n",
        "\n",
        "    clf = KNeighborsClassifier(n_neighbors=n_neighbors).fit(X, y)\n",
        "    mglearn.plots.plot_2d_separator(clf, X, fill=True, eps=0.5, ax=ax, alpha=.4)\n",
        "    mglearn.discrete_scatter(X[:, 0], X[:, 1], y, ax=ax)\n",
        "    ax.set_title(\"{} vecino(s)\".format(n_neighbors))\n",
        "    ax.set_xlabel(\"Característica 0\")\n",
        "    ax.set_ylabel(\"característica 1\")\n",
        "    axes[0].legend(loc=3)"
      ],
      "execution_count": null,
      "outputs": [
        {
          "output_type": "display_data",
          "data": {
            "image/png": "[encoded data removed]",
            "text/plain": [
              "<Figure size 720x216 with 3 Axes>"
            ]
          },
          "metadata": {
            "tags": []
          }
        }
      ]
    },
    {
      "cell_type": "markdown",
      "metadata": {
        "id": "U6dsFsmPGJcS"
      },
      "source": [
        "> A partir de estos valores podemos deducir que dado un menor número de vecinos se da una aproximación más fiel a la frontera de los datos y entre mayor sea el número de vecinos menos adecuado será el modelo."
      ]
    },
    {
      "cell_type": "code",
      "metadata": {
        "id": "JS2ZsqplGJcS"
      },
      "source": [
        "# Utilizando la base de datos prediseñada para cancer de mama\n",
        "\n",
        "\n",
        "cancer = load_breast_cancer()\n",
        "X_trainC, X_testC, y_trainC, y_testC = train_test_split(cancer.data, cancer.target, stratify=cancer.target, random_state=66)\n",
        "training_accuracy = []\n",
        "test_accuracy = []\n",
        "# try n_neighbors from 1 to 10\n",
        "neighbors_settings = range(1, 11)\n"
      ],
      "execution_count": null,
      "outputs": []
    },
    {
      "cell_type": "code",
      "metadata": {
        "id": "1KYK-0FRGJcT",
        "outputId": "548037f2-4035-42e9-92c9-239c7bdd20c8"
      },
      "source": [
        "for n_neighbors in neighbors_settings:\n",
        "    # build the model\n",
        "    clf = KNeighborsClassifier(n_neighbors=n_neighbors)\n",
        "    clf.fit(X_trainC, y_trainC)\n",
        "    # record training set accuracy\n",
        "    training_accuracy.append(clf.score(X_trainC, y_trainC))\n",
        "    # record generalization accuracy\n",
        "    test_accuracy.append(clf.score(X_testC, y_testC))\n",
        "    \n",
        "plt.plot(neighbors_settings, training_accuracy, label=\"Precisión de Entrenamiento\")\n",
        "plt.plot(neighbors_settings, test_accuracy, label=\"Precisión de Prueba\")\n",
        "plt.ylabel(\"Precisión\")\n",
        "plt.xlabel(\"K_vecinos\")\n",
        "plt.legend()"
      ],
      "execution_count": null,
      "outputs": [
        {
          "output_type": "execute_result",
          "data": {
            "text/plain": [
              "<matplotlib.legend.Legend at 0x7fbe3113e518>"
            ]
          },
          "metadata": {
            "tags": []
          },
          "execution_count": 15
        },
        {
          "output_type": "display_data",
          "data": {
            "image/png": "[encoded data removed]",
            "text/plain": [
              "<Figure size 432x288 with 1 Axes>"
            ]
          },
          "metadata": {
            "tags": [],
            "needs_background": "light"
          }
        }
      ]
    },
    {
      "cell_type": "code",
      "metadata": {
        "id": "9AywPPX8GJcT",
        "outputId": "a7f0e1fd-c335-4f40-d4ae-719721347da3"
      },
      "source": [
        "dfmr = pd.read_csv('Brain Tumor.csv')\n",
        "dfmr.head()"
      ],
      "execution_count": null,
      "outputs": [
        {
          "output_type": "execute_result",
          "data": {
            "text/html": [
              "<div>\n",
              "<style scoped>\n",
              "    .dataframe tbody tr th:only-of-type {\n",
              "        vertical-align: middle;\n",
              "    }\n",
              "\n",
              "    .dataframe tbody tr th {\n",
              "        vertical-align: top;\n",
              "    }\n",
              "\n",
              "    .dataframe thead th {\n",
              "        text-align: right;\n",
              "    }\n",
              "</style>\n",
              "<table border=\"1\" class=\"dataframe\">\n",
              "  <thead>\n",
              "    <tr style=\"text-align: right;\">\n",
              "      <th></th>\n",
              "      <th>Image</th>\n",
              "      <th>Class</th>\n",
              "      <th>Mean</th>\n",
              "      <th>Variance</th>\n",
              "      <th>Standard Deviation</th>\n",
              "      <th>Entropy</th>\n",
              "      <th>Skewness</th>\n",
              "      <th>Kurtosis</th>\n",
              "      <th>Contrast</th>\n",
              "      <th>Energy</th>\n",
              "      <th>ASM</th>\n",
              "      <th>Homogeneity</th>\n",
              "      <th>Dissimilarity</th>\n",
              "      <th>Correlation</th>\n",
              "      <th>Coarseness</th>\n",
              "    </tr>\n",
              "  </thead>\n",
              "  <tbody>\n",
              "    <tr>\n",
              "      <th>0</th>\n",
              "      <td>Image1</td>\n",
              "      <td>0</td>\n",
              "      <td>6.535339</td>\n",
              "      <td>619.587845</td>\n",
              "      <td>24.891522</td>\n",
              "      <td>0.109059</td>\n",
              "      <td>4.276477</td>\n",
              "      <td>18.900575</td>\n",
              "      <td>98.613971</td>\n",
              "      <td>0.293314</td>\n",
              "      <td>0.086033</td>\n",
              "      <td>0.530941</td>\n",
              "      <td>4.473346</td>\n",
              "      <td>0.981939</td>\n",
              "      <td>7.458341e-155</td>\n",
              "    </tr>\n",
              "    <tr>\n",
              "      <th>1</th>\n",
              "      <td>Image2</td>\n",
              "      <td>0</td>\n",
              "      <td>8.749969</td>\n",
              "      <td>805.957634</td>\n",
              "      <td>28.389393</td>\n",
              "      <td>0.266538</td>\n",
              "      <td>3.718116</td>\n",
              "      <td>14.464618</td>\n",
              "      <td>63.858816</td>\n",
              "      <td>0.475051</td>\n",
              "      <td>0.225674</td>\n",
              "      <td>0.651352</td>\n",
              "      <td>3.220072</td>\n",
              "      <td>0.988834</td>\n",
              "      <td>7.458341e-155</td>\n",
              "    </tr>\n",
              "    <tr>\n",
              "      <th>2</th>\n",
              "      <td>Image3</td>\n",
              "      <td>1</td>\n",
              "      <td>7.341095</td>\n",
              "      <td>1143.808219</td>\n",
              "      <td>33.820234</td>\n",
              "      <td>0.001467</td>\n",
              "      <td>5.061750</td>\n",
              "      <td>26.479563</td>\n",
              "      <td>81.867206</td>\n",
              "      <td>0.031917</td>\n",
              "      <td>0.001019</td>\n",
              "      <td>0.268275</td>\n",
              "      <td>5.981800</td>\n",
              "      <td>0.978014</td>\n",
              "      <td>7.458341e-155</td>\n",
              "    </tr>\n",
              "    <tr>\n",
              "      <th>3</th>\n",
              "      <td>Image4</td>\n",
              "      <td>1</td>\n",
              "      <td>5.958145</td>\n",
              "      <td>959.711985</td>\n",
              "      <td>30.979219</td>\n",
              "      <td>0.001477</td>\n",
              "      <td>5.677977</td>\n",
              "      <td>33.428845</td>\n",
              "      <td>151.229741</td>\n",
              "      <td>0.032024</td>\n",
              "      <td>0.001026</td>\n",
              "      <td>0.243851</td>\n",
              "      <td>7.700919</td>\n",
              "      <td>0.964189</td>\n",
              "      <td>7.458341e-155</td>\n",
              "    </tr>\n",
              "    <tr>\n",
              "      <th>4</th>\n",
              "      <td>Image5</td>\n",
              "      <td>0</td>\n",
              "      <td>7.315231</td>\n",
              "      <td>729.540579</td>\n",
              "      <td>27.010009</td>\n",
              "      <td>0.146761</td>\n",
              "      <td>4.283221</td>\n",
              "      <td>19.079108</td>\n",
              "      <td>174.988756</td>\n",
              "      <td>0.343849</td>\n",
              "      <td>0.118232</td>\n",
              "      <td>0.501140</td>\n",
              "      <td>6.834689</td>\n",
              "      <td>0.972789</td>\n",
              "      <td>7.458341e-155</td>\n",
              "    </tr>\n",
              "  </tbody>\n",
              "</table>\n",
              "</div>"
            ],
            "text/plain": [
              "    Image  Class      Mean     Variance  Standard Deviation   Entropy  \\\n",
              "0  Image1      0  6.535339   619.587845           24.891522  0.109059   \n",
              "1  Image2      0  8.749969   805.957634           28.389393  0.266538   \n",
              "2  Image3      1  7.341095  1143.808219           33.820234  0.001467   \n",
              "3  Image4      1  5.958145   959.711985           30.979219  0.001477   \n",
              "4  Image5      0  7.315231   729.540579           27.010009  0.146761   \n",
              "\n",
              "   Skewness   Kurtosis    Contrast    Energy       ASM  Homogeneity  \\\n",
              "0  4.276477  18.900575   98.613971  0.293314  0.086033     0.530941   \n",
              "1  3.718116  14.464618   63.858816  0.475051  0.225674     0.651352   \n",
              "2  5.061750  26.479563   81.867206  0.031917  0.001019     0.268275   \n",
              "3  5.677977  33.428845  151.229741  0.032024  0.001026     0.243851   \n",
              "4  4.283221  19.079108  174.988756  0.343849  0.118232     0.501140   \n",
              "\n",
              "   Dissimilarity  Correlation     Coarseness  \n",
              "0       4.473346     0.981939  7.458341e-155  \n",
              "1       3.220072     0.988834  7.458341e-155  \n",
              "2       5.981800     0.978014  7.458341e-155  \n",
              "3       7.700919     0.964189  7.458341e-155  \n",
              "4       6.834689     0.972789  7.458341e-155  "
            ]
          },
          "metadata": {
            "tags": []
          },
          "execution_count": 16
        }
      ]
    },
    {
      "cell_type": "code",
      "metadata": {
        "id": "ntN4aUqYGJcT",
        "outputId": "6657ada9-24ca-4051-a6b8-7cd2d798096d"
      },
      "source": [
        "columns = dfmr.keys()\n",
        "columns = list(columns)\n",
        "columns.remove('Image')\n",
        "columns.remove('Class')\n",
        "columns"
      ],
      "execution_count": null,
      "outputs": [
        {
          "output_type": "execute_result",
          "data": {
            "text/plain": [
              "['Mean',\n",
              " 'Variance',\n",
              " 'Standard Deviation',\n",
              " 'Entropy',\n",
              " 'Skewness',\n",
              " 'Kurtosis',\n",
              " 'Contrast',\n",
              " 'Energy',\n",
              " 'ASM',\n",
              " 'Homogeneity',\n",
              " 'Dissimilarity',\n",
              " 'Correlation',\n",
              " 'Coarseness']"
            ]
          },
          "metadata": {
            "tags": []
          },
          "execution_count": 17
        }
      ]
    },
    {
      "cell_type": "code",
      "metadata": {
        "id": "3SiUptyzGJcU",
        "outputId": "ca7affd6-9468-4183-812d-49b93beac279"
      },
      "source": [
        "dfmr[columns]"
      ],
      "execution_count": null,
      "outputs": [
        {
          "output_type": "execute_result",
          "data": {
            "text/html": [
              "<div>\n",
              "<style scoped>\n",
              "    .dataframe tbody tr th:only-of-type {\n",
              "        vertical-align: middle;\n",
              "    }\n",
              "\n",
              "    .dataframe tbody tr th {\n",
              "        vertical-align: top;\n",
              "    }\n",
              "\n",
              "    .dataframe thead th {\n",
              "        text-align: right;\n",
              "    }\n",
              "</style>\n",
              "<table border=\"1\" class=\"dataframe\">\n",
              "  <thead>\n",
              "    <tr style=\"text-align: right;\">\n",
              "      <th></th>\n",
              "      <th>Mean</th>\n",
              "      <th>Variance</th>\n",
              "      <th>Standard Deviation</th>\n",
              "      <th>Entropy</th>\n",
              "      <th>Skewness</th>\n",
              "      <th>Kurtosis</th>\n",
              "      <th>Contrast</th>\n",
              "      <th>Energy</th>\n",
              "      <th>ASM</th>\n",
              "      <th>Homogeneity</th>\n",
              "      <th>Dissimilarity</th>\n",
              "      <th>Correlation</th>\n",
              "      <th>Coarseness</th>\n",
              "    </tr>\n",
              "  </thead>\n",
              "  <tbody>\n",
              "    <tr>\n",
              "      <th>0</th>\n",
              "      <td>6.535339</td>\n",
              "      <td>619.587845</td>\n",
              "      <td>24.891522</td>\n",
              "      <td>0.109059</td>\n",
              "      <td>4.276477</td>\n",
              "      <td>18.900575</td>\n",
              "      <td>98.613971</td>\n",
              "      <td>0.293314</td>\n",
              "      <td>0.086033</td>\n",
              "      <td>0.530941</td>\n",
              "      <td>4.473346</td>\n",
              "      <td>0.981939</td>\n",
              "      <td>7.458341e-155</td>\n",
              "    </tr>\n",
              "    <tr>\n",
              "      <th>1</th>\n",
              "      <td>8.749969</td>\n",
              "      <td>805.957634</td>\n",
              "      <td>28.389393</td>\n",
              "      <td>0.266538</td>\n",
              "      <td>3.718116</td>\n",
              "      <td>14.464618</td>\n",
              "      <td>63.858816</td>\n",
              "      <td>0.475051</td>\n",
              "      <td>0.225674</td>\n",
              "      <td>0.651352</td>\n",
              "      <td>3.220072</td>\n",
              "      <td>0.988834</td>\n",
              "      <td>7.458341e-155</td>\n",
              "    </tr>\n",
              "    <tr>\n",
              "      <th>2</th>\n",
              "      <td>7.341095</td>\n",
              "      <td>1143.808219</td>\n",
              "      <td>33.820234</td>\n",
              "      <td>0.001467</td>\n",
              "      <td>5.061750</td>\n",
              "      <td>26.479563</td>\n",
              "      <td>81.867206</td>\n",
              "      <td>0.031917</td>\n",
              "      <td>0.001019</td>\n",
              "      <td>0.268275</td>\n",
              "      <td>5.981800</td>\n",
              "      <td>0.978014</td>\n",
              "      <td>7.458341e-155</td>\n",
              "    </tr>\n",
              "    <tr>\n",
              "      <th>3</th>\n",
              "      <td>5.958145</td>\n",
              "      <td>959.711985</td>\n",
              "      <td>30.979219</td>\n",
              "      <td>0.001477</td>\n",
              "      <td>5.677977</td>\n",
              "      <td>33.428845</td>\n",
              "      <td>151.229741</td>\n",
              "      <td>0.032024</td>\n",
              "      <td>0.001026</td>\n",
              "      <td>0.243851</td>\n",
              "      <td>7.700919</td>\n",
              "      <td>0.964189</td>\n",
              "      <td>7.458341e-155</td>\n",
              "    </tr>\n",
              "    <tr>\n",
              "      <th>4</th>\n",
              "      <td>7.315231</td>\n",
              "      <td>729.540579</td>\n",
              "      <td>27.010009</td>\n",
              "      <td>0.146761</td>\n",
              "      <td>4.283221</td>\n",
              "      <td>19.079108</td>\n",
              "      <td>174.988756</td>\n",
              "      <td>0.343849</td>\n",
              "      <td>0.118232</td>\n",
              "      <td>0.501140</td>\n",
              "      <td>6.834689</td>\n",
              "      <td>0.972789</td>\n",
              "      <td>7.458341e-155</td>\n",
              "    </tr>\n",
              "    <tr>\n",
              "      <th>...</th>\n",
              "      <td>...</td>\n",
              "      <td>...</td>\n",
              "      <td>...</td>\n",
              "      <td>...</td>\n",
              "      <td>...</td>\n",
              "      <td>...</td>\n",
              "      <td>...</td>\n",
              "      <td>...</td>\n",
              "      <td>...</td>\n",
              "      <td>...</td>\n",
              "      <td>...</td>\n",
              "      <td>...</td>\n",
              "      <td>...</td>\n",
              "    </tr>\n",
              "    <tr>\n",
              "      <th>3757</th>\n",
              "      <td>21.234512</td>\n",
              "      <td>1208.850174</td>\n",
              "      <td>34.768523</td>\n",
              "      <td>0.063774</td>\n",
              "      <td>2.082079</td>\n",
              "      <td>4.647310</td>\n",
              "      <td>158.437600</td>\n",
              "      <td>0.220666</td>\n",
              "      <td>0.048693</td>\n",
              "      <td>0.487131</td>\n",
              "      <td>5.211739</td>\n",
              "      <td>0.950972</td>\n",
              "      <td>7.458341e-155</td>\n",
              "    </tr>\n",
              "    <tr>\n",
              "      <th>3758</th>\n",
              "      <td>20.435349</td>\n",
              "      <td>1227.151440</td>\n",
              "      <td>35.030721</td>\n",
              "      <td>0.066763</td>\n",
              "      <td>2.144625</td>\n",
              "      <td>4.882034</td>\n",
              "      <td>161.158675</td>\n",
              "      <td>0.225931</td>\n",
              "      <td>0.051045</td>\n",
              "      <td>0.502712</td>\n",
              "      <td>5.083126</td>\n",
              "      <td>0.952749</td>\n",
              "      <td>7.458341e-155</td>\n",
              "    </tr>\n",
              "    <tr>\n",
              "      <th>3759</th>\n",
              "      <td>18.011520</td>\n",
              "      <td>1151.582765</td>\n",
              "      <td>33.934978</td>\n",
              "      <td>0.068396</td>\n",
              "      <td>2.308349</td>\n",
              "      <td>5.579498</td>\n",
              "      <td>167.130118</td>\n",
              "      <td>0.228930</td>\n",
              "      <td>0.052409</td>\n",
              "      <td>0.492269</td>\n",
              "      <td>5.103700</td>\n",
              "      <td>0.952181</td>\n",
              "      <td>7.458341e-155</td>\n",
              "    </tr>\n",
              "    <tr>\n",
              "      <th>3760</th>\n",
              "      <td>13.330429</td>\n",
              "      <td>945.732779</td>\n",
              "      <td>30.752769</td>\n",
              "      <td>0.087872</td>\n",
              "      <td>2.732822</td>\n",
              "      <td>7.757570</td>\n",
              "      <td>223.812932</td>\n",
              "      <td>0.261527</td>\n",
              "      <td>0.068397</td>\n",
              "      <td>0.480064</td>\n",
              "      <td>6.439784</td>\n",
              "      <td>0.940898</td>\n",
              "      <td>7.458341e-155</td>\n",
              "    </tr>\n",
              "    <tr>\n",
              "      <th>3761</th>\n",
              "      <td>6.110138</td>\n",
              "      <td>480.884025</td>\n",
              "      <td>21.929068</td>\n",
              "      <td>0.118171</td>\n",
              "      <td>4.110669</td>\n",
              "      <td>17.538826</td>\n",
              "      <td>239.251388</td>\n",
              "      <td>0.306224</td>\n",
              "      <td>0.093773</td>\n",
              "      <td>0.494333</td>\n",
              "      <td>6.787329</td>\n",
              "      <td>0.938731</td>\n",
              "      <td>7.458341e-155</td>\n",
              "    </tr>\n",
              "  </tbody>\n",
              "</table>\n",
              "<p>3762 rows × 13 columns</p>\n",
              "</div>"
            ],
            "text/plain": [
              "           Mean     Variance  Standard Deviation   Entropy  Skewness  \\\n",
              "0      6.535339   619.587845           24.891522  0.109059  4.276477   \n",
              "1      8.749969   805.957634           28.389393  0.266538  3.718116   \n",
              "2      7.341095  1143.808219           33.820234  0.001467  5.061750   \n",
              "3      5.958145   959.711985           30.979219  0.001477  5.677977   \n",
              "4      7.315231   729.540579           27.010009  0.146761  4.283221   \n",
              "...         ...          ...                 ...       ...       ...   \n",
              "3757  21.234512  1208.850174           34.768523  0.063774  2.082079   \n",
              "3758  20.435349  1227.151440           35.030721  0.066763  2.144625   \n",
              "3759  18.011520  1151.582765           33.934978  0.068396  2.308349   \n",
              "3760  13.330429   945.732779           30.752769  0.087872  2.732822   \n",
              "3761   6.110138   480.884025           21.929068  0.118171  4.110669   \n",
              "\n",
              "       Kurtosis    Contrast    Energy       ASM  Homogeneity  Dissimilarity  \\\n",
              "0     18.900575   98.613971  0.293314  0.086033     0.530941       4.473346   \n",
              "1     14.464618   63.858816  0.475051  0.225674     0.651352       3.220072   \n",
              "2     26.479563   81.867206  0.031917  0.001019     0.268275       5.981800   \n",
              "3     33.428845  151.229741  0.032024  0.001026     0.243851       7.700919   \n",
              "4     19.079108  174.988756  0.343849  0.118232     0.501140       6.834689   \n",
              "...         ...         ...       ...       ...          ...            ...   \n",
              "3757   4.647310  158.437600  0.220666  0.048693     0.487131       5.211739   \n",
              "3758   4.882034  161.158675  0.225931  0.051045     0.502712       5.083126   \n",
              "3759   5.579498  167.130118  0.228930  0.052409     0.492269       5.103700   \n",
              "3760   7.757570  223.812932  0.261527  0.068397     0.480064       6.439784   \n",
              "3761  17.538826  239.251388  0.306224  0.093773     0.494333       6.787329   \n",
              "\n",
              "      Correlation     Coarseness  \n",
              "0        0.981939  7.458341e-155  \n",
              "1        0.988834  7.458341e-155  \n",
              "2        0.978014  7.458341e-155  \n",
              "3        0.964189  7.458341e-155  \n",
              "4        0.972789  7.458341e-155  \n",
              "...           ...            ...  \n",
              "3757     0.950972  7.458341e-155  \n",
              "3758     0.952749  7.458341e-155  \n",
              "3759     0.952181  7.458341e-155  \n",
              "3760     0.940898  7.458341e-155  \n",
              "3761     0.938731  7.458341e-155  \n",
              "\n",
              "[3762 rows x 13 columns]"
            ]
          },
          "metadata": {
            "tags": []
          },
          "execution_count": 18
        }
      ]
    },
    {
      "cell_type": "code",
      "metadata": {
        "id": "tjYD_AO2GJcZ",
        "outputId": "0d607130-2f3a-4a3f-ac2e-f1b61b58851e"
      },
      "source": [
        "# Analogía con un nuevo set de datos.\n",
        "\n",
        "# Dadas sólo las columnas del DataFrame que contienen atributos construimos el set de datos\n",
        "# corresponde a X en la construcción del modelo\n",
        "dfmrd = dfmr[columns]\n",
        "tumorset = np.array(dfmrd)\n",
        "print(tumorset)\n",
        "# Con la columna de clase ('Class') obtenemos la categoría a la que pertenece cada paciente \n",
        "# es decir si contiene o no un tumor.\n",
        "tumorclass = np.array(dfmr['Class'])\n",
        "print('---------------------------------------------------------')\n",
        "print(tumorclass)"
      ],
      "execution_count": null,
      "outputs": [
        {
          "output_type": "stream",
          "text": [
            "[[6.53533936e+000 6.19587845e+002 2.48915215e+001 ... 4.47334559e+000\n",
            "  9.81938697e-001 7.45834073e-155]\n",
            " [8.74996948e+000 8.05957634e+002 2.83893930e+001 ... 3.22007157e+000\n",
            "  9.88834396e-001 7.45834073e-155]\n",
            " [7.34109497e+000 1.14380822e+003 3.38202339e+001 ... 5.98179980e+000\n",
            "  9.78013693e-001 7.45834073e-155]\n",
            " ...\n",
            " [1.80115204e+001 1.15158276e+003 3.39349785e+001 ... 5.10369972e+000\n",
            "  9.52181237e-001 7.45834073e-155]\n",
            " [1.33304291e+001 9.45732779e+002 3.07527686e+001 ... 6.43978421e+000\n",
            "  9.40898110e-001 7.45834073e-155]\n",
            " [6.11013794e+000 4.80884025e+002 2.19290680e+001 ... 6.78732909e+000\n",
            "  9.38730786e-001 7.45834073e-155]]\n",
            "---------------------------------------------------------\n",
            "[0 0 1 ... 0 0 0]\n"
          ],
          "name": "stdout"
        }
      ]
    },
    {
      "cell_type": "code",
      "metadata": {
        "id": "5k34VsmKGJcZ",
        "outputId": "b4abc506-7c9a-4d9f-e7a7-6a9d26e1d80f"
      },
      "source": [
        "load_breast_cancer().data.shape\n"
      ],
      "execution_count": null,
      "outputs": [
        {
          "output_type": "execute_result",
          "data": {
            "text/plain": [
              "(569, 30)"
            ]
          },
          "metadata": {
            "tags": []
          },
          "execution_count": 20
        }
      ]
    },
    {
      "cell_type": "code",
      "metadata": {
        "id": "JySaqlsMGJca",
        "outputId": "70a49558-2ab1-4a44-a757-605320b398da"
      },
      "source": [
        "load_breast_cancer().target.shape"
      ],
      "execution_count": null,
      "outputs": [
        {
          "output_type": "execute_result",
          "data": {
            "text/plain": [
              "(569,)"
            ]
          },
          "metadata": {
            "tags": []
          },
          "execution_count": 21
        }
      ]
    },
    {
      "cell_type": "code",
      "metadata": {
        "id": "poJ6A7QNGJca",
        "outputId": "a39fd9fa-a063-4276-9cab-027e2e80a240"
      },
      "source": [
        "tumorset.shape #13 atributos"
      ],
      "execution_count": null,
      "outputs": [
        {
          "output_type": "execute_result",
          "data": {
            "text/plain": [
              "(3762, 13)"
            ]
          },
          "metadata": {
            "tags": []
          },
          "execution_count": 22
        }
      ]
    },
    {
      "cell_type": "code",
      "metadata": {
        "id": "WPf_p6XyGJcb",
        "outputId": "67d51ac3-09ec-44f1-f9f6-c2ce6234bc48"
      },
      "source": [
        "tumorclass.shape #3762 sujetos en la BD"
      ],
      "execution_count": null,
      "outputs": [
        {
          "output_type": "execute_result",
          "data": {
            "text/plain": [
              "(3762,)"
            ]
          },
          "metadata": {
            "tags": []
          },
          "execution_count": 23
        }
      ]
    },
    {
      "cell_type": "code",
      "metadata": {
        "id": "bAFCQvHaGJcb"
      },
      "source": [
        "#Segmentación del set de datos\n",
        "xt_train, xt_test, yt_train, yt_test = train_test_split(tumorset, tumorclass, stratify=tumorclass,random_state=66)"
      ],
      "execution_count": null,
      "outputs": []
    },
    {
      "cell_type": "code",
      "metadata": {
        "id": "31kTFBPkGJcb",
        "outputId": "3df95ad7-2038-44a3-e8ec-f0bac1cc37b6"
      },
      "source": [
        "print(len(xt_train))\n",
        "\n",
        "2821/3762\n"
      ],
      "execution_count": null,
      "outputs": [
        {
          "output_type": "stream",
          "text": [
            "2821\n"
          ],
          "name": "stdout"
        },
        {
          "output_type": "execute_result",
          "data": {
            "text/plain": [
              "0.7498670919723551"
            ]
          },
          "metadata": {
            "tags": []
          },
          "execution_count": 25
        }
      ]
    },
    {
      "cell_type": "code",
      "metadata": {
        "id": "w8cuvrsiGJcb"
      },
      "source": [
        "KnnTum = KNeighborsClassifier(n_neighbors=3)"
      ],
      "execution_count": null,
      "outputs": []
    },
    {
      "cell_type": "code",
      "metadata": {
        "id": "1Gb59BF1GJcc",
        "outputId": "295025f3-715f-46a3-b9b2-f12b6ff7d562"
      },
      "source": [
        "KnnTum.fit(xt_train,yt_train)"
      ],
      "execution_count": null,
      "outputs": [
        {
          "output_type": "execute_result",
          "data": {
            "text/plain": [
              "KNeighborsClassifier(n_neighbors=3)"
            ]
          },
          "metadata": {
            "tags": []
          },
          "execution_count": 27
        }
      ]
    },
    {
      "cell_type": "code",
      "metadata": {
        "id": "87s8TCpkGJcc"
      },
      "source": [
        "predicted_vals = KnnTum.predict(xt_test)"
      ],
      "execution_count": null,
      "outputs": []
    },
    {
      "cell_type": "code",
      "metadata": {
        "id": "YCrbLmc0GJcd",
        "outputId": "346fbbf0-ffcf-4aae-df8a-72348d6f8075"
      },
      "source": [
        "print(\"Test set accuracy: {:.2f}\".format(KnnTum.score(xt_test, yt_test)))"
      ],
      "execution_count": null,
      "outputs": [
        {
          "output_type": "stream",
          "text": [
            "Test set accuracy: 0.81\n"
          ],
          "name": "stdout"
        }
      ]
    },
    {
      "cell_type": "code",
      "metadata": {
        "id": "KkiNkbU0GJcd",
        "outputId": "1fc6596b-fca3-4d63-fcfd-06f2a4c597a0"
      },
      "source": [
        "train_accuracy = []\n",
        "tst_accuracy = []\n",
        "# try n_neighbors from 1 to 10\n",
        "neighbors_settings = range(1, 11)\n",
        "\n",
        "for n_neighbors in neighbors_settings:\n",
        "    # build the model\n",
        "    clf = KNeighborsClassifier(n_neighbors=n_neighbors)\n",
        "    clf.fit(xt_train, yt_train)\n",
        "    # record training set accuracy\n",
        "    train_accuracy.append(clf.score(xt_train, yt_train))\n",
        "    # record generalization accuracy\n",
        "    tst_accuracy.append(clf.score(xt_test, yt_test))\n",
        "    \n",
        "    \n",
        "    \n",
        "plt.plot(neighbors_settings, train_accuracy,label='Exactitud de Entrenamiento')\n",
        "plt.plot(neighbors_settings, tst_accuracy,label=\"Exactitud de Prueba\")\n",
        "plt.ylabel(\"Exactitud\")\n",
        "plt.xlabel(\"K-Vecinos\")\n",
        "plt.title('Ajuste de modelo KNN (13C)')\n",
        "plt.legend()"
      ],
      "execution_count": null,
      "outputs": [
        {
          "output_type": "execute_result",
          "data": {
            "text/plain": [
              "<matplotlib.legend.Legend at 0x7fbe31022ef0>"
            ]
          },
          "metadata": {
            "tags": []
          },
          "execution_count": 30
        },
        {
          "output_type": "display_data",
          "data": {
            "image/png": "[encoded data removed]",
            "text/plain": [
              "<Figure size 432x288 with 1 Axes>"
            ]
          },
          "metadata": {
            "tags": [],
            "needs_background": "light"
          }
        }
      ]
    },
    {
      "cell_type": "code",
      "metadata": {
        "id": "-aukvzZ8GJcd"
      },
      "source": [
        " from sklearn.metrics import roc_curve, roc_auc_score"
      ],
      "execution_count": null,
      "outputs": []
    },
    {
      "cell_type": "code",
      "metadata": {
        "id": "82Rd2g7AGJcd"
      },
      "source": [
        "?roc_curve"
      ],
      "execution_count": null,
      "outputs": []
    },
    {
      "cell_type": "code",
      "metadata": {
        "id": "Uj4n8CuwGJce"
      },
      "source": [
        "#lab =['positivo','negativo']\n",
        "#auc_rocs = roc_curve(lab, predicted_vals, xt_test)"
      ],
      "execution_count": null,
      "outputs": []
    },
    {
      "cell_type": "code",
      "metadata": {
        "id": "GMzVDWOZGJce",
        "outputId": "25f37a3f-1d88-4532-8fae-78b83851bc97"
      },
      "source": [
        "false_positive_rate1, true_positive_rate1, threshold1 = roc_curve(yt_test,predicted_vals)\n",
        "print('AUROC para KNN: ', roc_auc_score(yt_test, predicted_vals))"
      ],
      "execution_count": null,
      "outputs": [
        {
          "output_type": "stream",
          "text": [
            "AUROC para KNN:  0.8043120774712225\n"
          ],
          "name": "stdout"
        }
      ]
    },
    {
      "cell_type": "code",
      "metadata": {
        "id": "ckNblJ6mGJce",
        "outputId": "fe8db37b-7073-4ef6-c68b-32f5adb3e7f3"
      },
      "source": [
        "from sklearn.metrics import classification_report\n",
        "from sklearn.metrics import confusion_matrix\n",
        "print(classification_report(yt_test,predicted_vals))"
      ],
      "execution_count": null,
      "outputs": [
        {
          "output_type": "stream",
          "text": [
            "              precision    recall  f1-score   support\n",
            "\n",
            "           0       0.81      0.85      0.83       520\n",
            "           1       0.80      0.76      0.78       421\n",
            "\n",
            "    accuracy                           0.81       941\n",
            "   macro avg       0.81      0.80      0.81       941\n",
            "weighted avg       0.81      0.81      0.81       941\n",
            "\n"
          ],
          "name": "stdout"
        }
      ]
    },
    {
      "cell_type": "code",
      "metadata": {
        "id": "zMwjodMIGJce",
        "outputId": "17423220-fd54-471a-eca8-1bb0dab727e1"
      },
      "source": [
        "confusion_matrix(yt_test,predicted_vals)"
      ],
      "execution_count": null,
      "outputs": [
        {
          "output_type": "execute_result",
          "data": {
            "text/plain": [
              "array([[440,  80],\n",
              "       [100, 321]])"
            ]
          },
          "metadata": {
            "tags": []
          },
          "execution_count": 36
        }
      ]
    },
    {
      "cell_type": "code",
      "metadata": {
        "id": "8OwJG31dGJce",
        "outputId": "e3d8e690-bb09-49b2-8d08-f893dbabf05a"
      },
      "source": [
        "plt.title('Matriz de Confusión KNN (13C)')\n",
        "mglearn.tools.heatmap(confusion_matrix(yt_test,predicted_vals), xlabel='Clase Predicha',ylabel='Clase Verdadera', xticklabels=['T','NO-T'],yticklabels=['T','NO-T'], cmap=plt.cm.gray_r, fmt=\"%d\")"
      ],
      "execution_count": null,
      "outputs": [
        {
          "output_type": "execute_result",
          "data": {
            "text/plain": [
              "<matplotlib.collections.PolyCollection at 0x7fbe30ffe048>"
            ]
          },
          "metadata": {
            "tags": []
          },
          "execution_count": 37
        },
        {
          "output_type": "display_data",
          "data": {
            "image/png": "[encoded data removed]",
            "text/plain": [
              "<Figure size 432x288 with 1 Axes>"
            ]
          },
          "metadata": {
            "tags": [],
            "needs_background": "light"
          }
        }
      ]
    },
    {
      "cell_type": "code",
      "metadata": {
        "id": "qXG7RFinGJcf",
        "outputId": "419e363b-4617-4343-bf5f-3d9daae12e9f"
      },
      "source": [
        "\n",
        "cnf_matrix = confusion_matrix(yt_test, predicted_vals)\n",
        "cm = confusion_matrix(yt_test,predicted_vals,normalize='true')\n",
        "cmd = ConfusionMatrixDisplay(cm, display_labels=['T','NO-T'])\n",
        "cmd.plot(cmap=plt.cm.Blues,values_format='.2f')\n",
        "plt.tight_layout()\n",
        "plt.ylabel('Clase Verdadera')\n",
        "plt.xlabel('Clase Predicha')\n",
        "plt.title('Matriz de Confusión KNN (13C)')\n"
      ],
      "execution_count": null,
      "outputs": [
        {
          "output_type": "execute_result",
          "data": {
            "text/plain": [
              "Text(0.5, 1.0, 'Matriz de Confusión KNN (13C)')"
            ]
          },
          "metadata": {
            "tags": []
          },
          "execution_count": 50
        },
        {
          "output_type": "display_data",
          "data": {
            "image/png": "[encoded data removed]",
            "text/plain": [
              "<Figure size 432x288 with 2 Axes>"
            ]
          },
          "metadata": {
            "tags": [],
            "needs_background": "light"
          }
        }
      ]
    },
    {
      "cell_type": "code",
      "metadata": {
        "id": "LZpABw1rGJcf",
        "outputId": "f3802e46-d8a2-4509-8dc9-3bf462e1fd6b"
      },
      "source": [
        "plt.title('ROC- KNN (13) Características')\n",
        "plt.plot(false_positive_rate1, true_positive_rate1)\n",
        "plt.plot([0, 1], ls=\"--\")\n",
        "plt.ylabel('Sensibilidad')\n",
        "plt.xlabel('1-Especificidad')\n",
        "plt.show()"
      ],
      "execution_count": null,
      "outputs": [
        {
          "output_type": "display_data",
          "data": {
            "image/png": "[encoded data removed]",
            "text/plain": [
              "<Figure size 432x288 with 1 Axes>"
            ]
          },
          "metadata": {
            "tags": [],
            "needs_background": "light"
          }
        }
      ]
    },
    {
      "cell_type": "code",
      "metadata": {
        "id": "BUjUSJdvGJcf"
      },
      "source": [
        "# Entrenando el modelo con menos atributos y los más adecuados\n",
        "newcol = ['Entropy','Energy','ASM','Homogeneity']\n",
        "dfmrt = dfmr[newcol]\n",
        "tumorsetd = np.array(dfmrt)\n",
        "xtd_train, xtd_test, ytd_train, ytd_test = train_test_split(tumorsetd, tumorclass, stratify=tumorclass,random_state=66)"
      ],
      "execution_count": null,
      "outputs": []
    },
    {
      "cell_type": "code",
      "metadata": {
        "id": "PF3NlII3GJcf",
        "outputId": "12f2d809-d558-459e-9f76-cca74cf7c2bc"
      },
      "source": [
        "KnnTum.fit(xtd_train,ytd_train)"
      ],
      "execution_count": null,
      "outputs": [
        {
          "output_type": "execute_result",
          "data": {
            "text/plain": [
              "KNeighborsClassifier(n_neighbors=3)"
            ]
          },
          "metadata": {
            "tags": []
          },
          "execution_count": 41
        }
      ]
    },
    {
      "cell_type": "code",
      "metadata": {
        "id": "r2bfwCQBGJcf",
        "outputId": "26f0307e-d3c2-4562-e88f-847d1bd8b18c"
      },
      "source": [
        "train_accuracy = []\n",
        "tst_accuracy = []\n",
        "# try n_neighbors from 1 to 10\n",
        "neighbors_settings = range(1, 11)\n",
        "\n",
        "for n_neighbors in neighbors_settings:\n",
        "    # build the model\n",
        "    clf = KNeighborsClassifier(n_neighbors=n_neighbors)\n",
        "    clf.fit(xtd_train, ytd_train)\n",
        "    # record training set accuracy\n",
        "    train_accuracy.append(clf.score(xtd_train, ytd_train))\n",
        "    # record generalization accuracy\n",
        "    tst_accuracy.append(clf.score(xtd_test, ytd_test))\n",
        "    \n",
        "plt.plot(neighbors_settings, train_accuracy, label=\"Exactitud de Entrenamiento\")\n",
        "plt.plot(neighbors_settings, tst_accuracy, label=\"Exactitud de Prueba\")\n",
        "plt.ylabel(\"Exactitud\")\n",
        "plt.xlabel(\"K-Vecinos\")\n",
        "plt.title('Ajuste del modelo KNN (4C)')\n",
        "plt.legend()"
      ],
      "execution_count": null,
      "outputs": [
        {
          "output_type": "execute_result",
          "data": {
            "text/plain": [
              "<matplotlib.legend.Legend at 0x7fbe30e0d940>"
            ]
          },
          "metadata": {
            "tags": []
          },
          "execution_count": 42
        },
        {
          "output_type": "display_data",
          "data": {
            "image/png": "[encoded data removed]",
            "text/plain": [
              "<Figure size 432x288 with 1 Axes>"
            ]
          },
          "metadata": {
            "tags": [],
            "needs_background": "light"
          }
        }
      ]
    },
    {
      "cell_type": "code",
      "metadata": {
        "id": "XEFfjjzWGJcg",
        "outputId": "6b4e7379-8614-41fc-fa12-46686575b982"
      },
      "source": [
        "predicted_valsd = KnnTum.predict(xtd_test)\n",
        "print(\"Test set accuracy: {:.2f}\".format(KnnTum.score(xtd_test, ytd_test)))"
      ],
      "execution_count": null,
      "outputs": [
        {
          "output_type": "stream",
          "text": [
            "Test set accuracy: 0.98\n"
          ],
          "name": "stdout"
        }
      ]
    },
    {
      "cell_type": "code",
      "metadata": {
        "id": "VAmhkjAuGJcg",
        "outputId": "0acc575f-d167-4038-bc2e-0dff61b787c5"
      },
      "source": [
        "false_positive_rate1d, true_positive_rate1d, threshold1d = roc_curve(ytd_test,predicted_valsd)\n",
        "print('AUROC para KNN D: ', roc_auc_score(ytd_test, predicted_valsd))"
      ],
      "execution_count": null,
      "outputs": [
        {
          "output_type": "stream",
          "text": [
            "AUROC para KNN D:  0.9785652293075097\n"
          ],
          "name": "stdout"
        }
      ]
    },
    {
      "cell_type": "code",
      "metadata": {
        "id": "VcX434T-GJcg",
        "outputId": "ba43a2dc-938d-4ef4-a3e5-f5727dd94d87"
      },
      "source": [
        "from sklearn.metrics import classification_report\n",
        "print(classification_report(ytd_test,predicted_valsd))"
      ],
      "execution_count": null,
      "outputs": [
        {
          "output_type": "stream",
          "text": [
            "              precision    recall  f1-score   support\n",
            "\n",
            "           0       0.97      0.99      0.98       520\n",
            "           1       0.99      0.97      0.98       421\n",
            "\n",
            "    accuracy                           0.98       941\n",
            "   macro avg       0.98      0.98      0.98       941\n",
            "weighted avg       0.98      0.98      0.98       941\n",
            "\n"
          ],
          "name": "stdout"
        }
      ]
    },
    {
      "cell_type": "code",
      "metadata": {
        "id": "hCamY8cgGJcg",
        "outputId": "1cb7bbfc-f825-415e-b7b6-1e1b9232b2fd"
      },
      "source": [
        "confusion_matrix(ytd_test,predicted_valsd)"
      ],
      "execution_count": null,
      "outputs": [
        {
          "output_type": "execute_result",
          "data": {
            "text/plain": [
              "array([[515,   5],\n",
              "       [ 14, 407]])"
            ]
          },
          "metadata": {
            "tags": []
          },
          "execution_count": 46
        }
      ]
    },
    {
      "cell_type": "code",
      "metadata": {
        "id": "Cu14x4_xGJch",
        "outputId": "c22bfe32-1a3e-4e63-bec0-e9d2aaf03c0f"
      },
      "source": [
        "plt.title('Matriz de Confusión KNN (4C)')\n",
        "mglearn.tools.heatmap(confusion_matrix(ytd_test,predicted_valsd), xlabel='Clase Predicha',ylabel='Clase Verdadera', xticklabels=['T','NO-T'],yticklabels=['T','NO-T'], cmap=plt.cm.gray_r, fmt=\"%d\")\n",
        "\n"
      ],
      "execution_count": null,
      "outputs": [
        {
          "output_type": "execute_result",
          "data": {
            "text/plain": [
              "<matplotlib.collections.PolyCollection at 0x7fbe30dcb8d0>"
            ]
          },
          "metadata": {
            "tags": []
          },
          "execution_count": 47
        },
        {
          "output_type": "display_data",
          "data": {
            "image/png": "[encoded data removed]",
            "text/plain": [
              "<Figure size 432x288 with 1 Axes>"
            ]
          },
          "metadata": {
            "tags": [],
            "needs_background": "light"
          }
        }
      ]
    },
    {
      "cell_type": "code",
      "metadata": {
        "id": "hxgl2CBPGJch",
        "outputId": "7cafd497-f403-4ce2-d818-2241ed78d708"
      },
      "source": [
        "from sklearn.metrics import confusion_matrix, ConfusionMatrixDisplay\n",
        "\n",
        "\n",
        "cnf_matrix = confusion_matrix(ytd_test, predicted_valsd)\n",
        "cm = confusion_matrix(ytd_test,predicted_valsd,normalize='true')\n",
        "cmd = ConfusionMatrixDisplay(cm, display_labels=['T','NO-T'])\n",
        "cmd.plot(cmap=plt.cm.Blues,values_format='.2f')\n",
        "\n",
        "plt.tight_layout()\n",
        "plt.ylabel('Clase Verdadera')\n",
        "plt.xlabel('Clase Predicha')\n",
        "plt.title('Matriz de Confusión KNN (4C)')\n"
      ],
      "execution_count": null,
      "outputs": [
        {
          "output_type": "execute_result",
          "data": {
            "text/plain": [
              "Text(0.5, 1.0, 'Matriz de Confusión KNN (4C)')"
            ]
          },
          "metadata": {
            "tags": []
          },
          "execution_count": 48
        },
        {
          "output_type": "display_data",
          "data": {
            "image/png": "[encoded data removed]",
            "text/plain": [
              "<Figure size 432x288 with 2 Axes>"
            ]
          },
          "metadata": {
            "tags": [],
            "needs_background": "light"
          }
        }
      ]
    },
    {
      "cell_type": "code",
      "metadata": {
        "id": "gvtsWpNEGJch",
        "outputId": "106f48a7-d75d-459a-aa7b-c09e7368e2a3"
      },
      "source": [
        "plt.title('ROC - KNN (4) Características')\n",
        "plt.plot(false_positive_rate1d, true_positive_rate1d)\n",
        "plt.plot([0, 1], ls=\"--\")\n",
        "plt.ylabel('Sensibilidad')\n",
        "plt.xlabel('1-Especificidad')\n",
        "plt.show()"
      ],
      "execution_count": null,
      "outputs": [
        {
          "output_type": "display_data",
          "data": {
            "image/png": "[encoded data removed]",
            "text/plain": [
              "<Figure size 432x288 with 1 Axes>"
            ]
          },
          "metadata": {
            "tags": [],
            "needs_background": "light"
          }
        }
      ]
    },
    {
      "cell_type": "code",
      "metadata": {
        "id": "4LEQ4d8HGJch"
      },
      "source": [
        "from sklearn.model_selection import cross_val_score\n",
        "from sklearn.model_selection import KFold\n",
        "from sklearn.model_selection import ShuffleSplit\n",
        "import scipy.stats"
      ],
      "execution_count": null,
      "outputs": []
    },
    {
      "cell_type": "code",
      "metadata": {
        "id": "r8pdE5jVGJch"
      },
      "source": [
        "#Cargamos los datos\n",
        "Datos=pd.read_csv('Brain Tumor.csv')\n",
        "X=np.array(Datos.drop(['Class','Image'],axis=1))\n",
        "y=np.array(Datos['Class'])\n",
        "#Establecemos al primer modelo\n",
        "kVecinos = KnnTum\n",
        "#Decidimos cómo vamos a dividir los datos para el primer modelo\n",
        "kfold = KFold(n_splits=30, shuffle=True, random_state=0)\n",
        "#Calculamos los resultados de la exactitud del modelos bajo esas diferentes elecciones:\n",
        "scoresDefault = cross_val_score(kVecinos, xtd_train,ytd_train,cv=kfold)\n",
        "#Desplejamos los valores\n",
        "print('--------------------------Deafult Scores-----------------------')\n",
        "print(scoresDefault)\n",
        "ScoresROC = cross_val_score(kVecinos, xtd_test,ytd_test,cv=kfold,scoring='roc_auc')\n",
        "print('---------------------------ROC Scores---------------------------')\n",
        "print(ScoresROC)\n",
        "Scoresf1 = cross_val_score(kVecinos, xtd_test,ytd_test,cv=kfold,scoring='f1')\n",
        "print('--------------------------f1 Scores-----------------------------')\n",
        "print(Scoresf1)"
      ],
      "execution_count": null,
      "outputs": []
    },
    {
      "cell_type": "code",
      "metadata": {
        "id": "zZxr-1zNGJci"
      },
      "source": [
        "sensibilidad=[]\n",
        "especificidad=[]\n",
        "vpp=[]\n",
        "vpn=[]\n",
        "\n",
        "for i in range(0,30):\n",
        "    X_train, X_test, y_train, y_test = train_test_split(tumorsetd, tumorclass, stratify=y,random_state=i)\n",
        "    KnnTum.fit(X_train,y_train)\n",
        "    y_pred = KnnTum.predict(X_test)\n",
        "    confusion = confusion_matrix(y_test, y_pred)\n",
        "    VP=confusion[0,0]\n",
        "    VN=confusion[1,1]\n",
        "    FP=confusion[1,0]\n",
        "    FN=confusion[0,1]\n",
        "    Sensibilidad=(VP)/(VP+FN)\n",
        "    Especificidad=(VN)/(FP+VN)\n",
        "    VPP=(VP)/(VP+FP)\n",
        "    VPN=(VN)/(VN+FN)\n",
        "    sensibilidad.append(Sensibilidad)\n",
        "    especificidad.append(Especificidad)\n",
        "    vpp.append(VPP)\n",
        "    vpn.append(VPN)"
      ],
      "execution_count": null,
      "outputs": []
    },
    {
      "cell_type": "code",
      "metadata": {
        "id": "ZvL9DWoVGJci"
      },
      "source": [
        "DatosKnn=pd.DataFrame()\n",
        "DatosKnn['sensibilidad']=np.array(sensibilidad)\n",
        "DatosKnn['especificidad']=np.array(especificidad)\n",
        "DatosKnn['vpp']=np.array(vpp)\n",
        "DatosKnn['vpn']=np.array(vpn)\n",
        "DatosKnn['f1']=Scoresf1\n",
        "DatosKnn['exactitud']=scoresDefault\n",
        "DatosKnn['roc_auc']=ScoresROC\n",
        "DatosKnn.to_csv('DatosKnn.csv')\n",
        "\n",
        "DatosLalo=pd.read_csv('DatosKnn.csv')\n",
        "DatosLalo"
      ],
      "execution_count": null,
      "outputs": []
    },
    {
      "cell_type": "markdown",
      "metadata": {
        "id": "RzL1wcWQGJci"
      },
      "source": [
        "### Árboles de decisión \n",
        "\n",
        "> Los árboles de decisión son un modelo útil para problemas de clasificación y regresión son usados principalmente cómo secuencias condicionales de if/else con el objetivo final de llegar a una decisión.\n",
        "\n",
        "> Son construidos a partir de una condición inicial de segmentación de la información continuando con divisiones siguientes en los segmentos consecutivos, permiten identificar un comportamiento debido al refinamiento que tienen para discriminar datos.\n",
        "\n",
        "> Dependen de su profundidad y que tan puro ha sido su crecimiento"
      ]
    },
    {
      "cell_type": "code",
      "metadata": {
        "id": "k2zKB8OOGJci"
      },
      "source": [
        "from sklearn.tree import DecisionTreeClassifier\n",
        "cancer = load_breast_cancer()\n",
        "X_train, X_test, y_train, y_test = train_test_split(\n",
        "cancer.data, cancer.target, stratify=cancer.target, random_state=42)\n",
        "tree = DecisionTreeClassifier(random_state=0)\n",
        "tree.fit(X_train, y_train)\n",
        "print(\"Accuracy on training set: {:.3f}\".format(tree.score(X_train, y_train)))\n",
        "print(\"Accuracy on test set: {:.3f}\".format(tree.score(X_test, y_test)))"
      ],
      "execution_count": null,
      "outputs": []
    },
    {
      "cell_type": "code",
      "metadata": {
        "id": "v2b5RLmNGJci"
      },
      "source": [
        "# árbol de decisión con una profundidad fija\n",
        "\n",
        "tree = DecisionTreeClassifier(max_depth=4, random_state=0)\n",
        "tree.fit(X_train, y_train)\n",
        "print(\"Accuracy on training set: {:.3f}\".format(tree.score(X_train, y_train)))\n",
        "print(\"Accuracy on test set: {:.3f}\".format(tree.score(X_test, y_test)))"
      ],
      "execution_count": null,
      "outputs": []
    },
    {
      "cell_type": "code",
      "metadata": {
        "id": "i9JcAN4XGJci"
      },
      "source": [
        "from sklearn.tree import export_graphviz\n",
        "export_graphviz(tree, out_file=\"tree.dot\", class_names=[\"malignant\", \"benign\"],\n",
        "feature_names=cancer.feature_names, impurity=False, filled=True)"
      ],
      "execution_count": null,
      "outputs": []
    },
    {
      "cell_type": "code",
      "metadata": {
        "id": "Iadz8YAZGJci"
      },
      "source": [
        "import graphviz\n",
        "\n",
        "with open('tree.dot') as f:\n",
        "    dot_graph = f.read()\n",
        "    \n",
        "graphviz.Source(dot_graph)"
      ],
      "execution_count": null,
      "outputs": []
    },
    {
      "cell_type": "code",
      "metadata": {
        "id": "g_CivVTtGJcj"
      },
      "source": [
        "from sklearn.feature_selection import SelectFromModel"
      ],
      "execution_count": null,
      "outputs": []
    },
    {
      "cell_type": "code",
      "metadata": {
        "id": "tMS4f2zBGJcj"
      },
      "source": [
        "select = SelectFromModel(KnnTum,threshold=\"median\")"
      ],
      "execution_count": null,
      "outputs": []
    },
    {
      "cell_type": "code",
      "metadata": {
        "id": "pWPto3PTGJcj"
      },
      "source": [
        "select.fit(xtd_train,ytd_train)\n",
        "\n"
      ],
      "execution_count": null,
      "outputs": []
    },
    {
      "cell_type": "code",
      "metadata": {
        "id": "g_4I0WMMGJcj"
      },
      "source": [
        "from sklearn.feature_selection import RFE\n",
        "\n",
        "select = RFE(KnnTum,n_features_to_select=8)\n",
        "select.fit(xtd_train, ytd_train)\n",
        "# visualize the selected features:\n",
        "\n",
        "mask = select.get_support()\n",
        "\n",
        "plt.matshow(mask.reshape(1,-1), cmap='gray_r')\n",
        "plt.xlabel(\"Sample index\")"
      ],
      "execution_count": null,
      "outputs": []
    },
    {
      "cell_type": "code",
      "metadata": {
        "id": "yYbf7_DyGJcj"
      },
      "source": [
        ""
      ],
      "execution_count": null,
      "outputs": []
    }
  ]
}