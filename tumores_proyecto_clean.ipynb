{
 "cells": [
  {
   "cell_type": "markdown",
   "metadata": {},
   "source": [
    "##### Proyecto Final BEDU Python (3 y 4)\n",
    "### Clasificador de Imágenes de RMN usando una  red nueuronal convolucionada prediseñada.\n",
    "\n",
    "`03/2021 - 07/2021`\n",
    "\n",
    "> García Espinosa David Alexis \n",
    "\n",
    "> Este proyecto está inspirado en el curos AI for Medical Diagnosis disponible en [Coursera](https://www.coursera.org/learn/ai-for-medical-diagnosis)\n",
    "\n",
    "#### Motivación:\n",
    "\n",
    "El propósito de este trabajo es generar una herramienta novedosa para la clasificación de imágenes de resonancia magnñetica nuclear, usualmente tomandas/generadas en hospitales de alta necesidad.\n",
    "\n",
    "#### Base de Datos utilizada:\n",
    "\n",
    "La base de datos utilizada es una colección de imágenes apartada de la base general llamada `BraTS` de la competenciua realizada desde _2012_ _Brain Tumor Segmentation Challenge_ y puede ser consultada desde [Kaggle](https://www.kaggle.com/jakeshbohaju/brain-tumor) o si se desea la base completa y sus [especificaciones ](https://www.smir.ch/BRATS/Start2015)"
   ]
  },
  {
   "cell_type": "code",
   "execution_count": null,
   "metadata": {},
   "outputs": [],
   "source": [
    "from PIL import Image\n",
    "from PIL.ExifTags import TAGS\n",
    "\n",
    "# Bibliotecas a utilizar.\n",
    "import pandas as pd\n",
    "import numpy as np \n",
    "import seaborn as sns\n",
    "import os \n",
    "import matplotlib.pyplot as plt"
   ]
  }
 ],
 "metadata": {
  "kernelspec": {
   "display_name": "Python 3",
   "language": "python",
   "name": "python3"
  },
  "language_info": {
   "codemirror_mode": {
    "name": "ipython",
    "version": 3
   },
   "file_extension": ".py",
   "mimetype": "text/x-python",
   "name": "python",
   "nbconvert_exporter": "python",
   "pygments_lexer": "ipython3",
   "version": "3.7.4"
  }
 },
 "nbformat": 4,
 "nbformat_minor": 2
}
