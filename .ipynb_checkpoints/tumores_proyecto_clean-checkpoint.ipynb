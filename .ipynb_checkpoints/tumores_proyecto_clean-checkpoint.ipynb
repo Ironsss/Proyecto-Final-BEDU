{
 "cells": [
  {
   "cell_type": "markdown",
   "metadata": {},
   "source": [
    "##### Proyecto Final BEDU Python (3 y 4)\n",
    "### Clasificador de Imágenes de RMN usando una  red nueuronal convolucionada prediseñada y su comparación con métodos de aprendizaje supervisado (KNN y SVM).\n",
    "\n",
    "`03/2021 - 07/2021`\n",
    "\n",
    "> García Espinosa David Alexis \n",
    "\n",
    "> Este proyecto está inspirado en el curso `AI for Medical Diagnosis` disponible en [Coursera](https://www.coursera.org/learn/ai-for-medical-diagnosis)\n",
    "\n",
    "#### Motivación:\n",
    "\n",
    "El propósito de este trabajo es generar una herramienta novedosa para la clasificación de imágenes de resonancia magnñetica nuclear, usualmente tomandas/generadas en hospitales de alta necesidad.\n",
    "\n",
    "#### Base de Datos utilizada:\n",
    "\n",
    "La base de datos utilizada es una colección de imágenes apartada de la base general llamada `BraTS` de la competenciua realizada desde _2012_ _Brain Tumor Segmentation Challenge_ y puede ser consultada desde [Kaggle](https://www.kaggle.com/jakeshbohaju/brain-tumor) o si se desea la base completa y sus [especificaciones ](https://www.smir.ch/BRATS/Start2015)"
   ]
  },
  {
   "cell_type": "code",
   "execution_count": 2,
   "metadata": {},
   "outputs": [],
   "source": [
    "# Visualzación de imágenes extrenas.\n",
    "from PIL import Image\n",
    "from PIL.ExifTags import TAGS\n",
    "\n",
    "# Bibliotecas a utilizar.\n",
    "import pandas as pd\n",
    "import numpy as np \n",
    "import seaborn as sns\n",
    "import os \n",
    "import matplotlib.pyplot as plt"
   ]
  },
  {
   "cell_type": "code",
   "execution_count": 4,
   "metadata": {},
   "outputs": [
    {
     "data": {
      "text/html": [
       "<div>\n",
       "<style scoped>\n",
       "    .dataframe tbody tr th:only-of-type {\n",
       "        vertical-align: middle;\n",
       "    }\n",
       "\n",
       "    .dataframe tbody tr th {\n",
       "        vertical-align: top;\n",
       "    }\n",
       "\n",
       "    .dataframe thead th {\n",
       "        text-align: right;\n",
       "    }\n",
       "</style>\n",
       "<table border=\"1\" class=\"dataframe\">\n",
       "  <thead>\n",
       "    <tr style=\"text-align: right;\">\n",
       "      <th></th>\n",
       "      <th>Image</th>\n",
       "      <th>Class</th>\n",
       "      <th>Mean</th>\n",
       "      <th>Variance</th>\n",
       "      <th>Standard Deviation</th>\n",
       "      <th>Entropy</th>\n",
       "      <th>Skewness</th>\n",
       "      <th>Kurtosis</th>\n",
       "      <th>Contrast</th>\n",
       "      <th>Energy</th>\n",
       "      <th>ASM</th>\n",
       "      <th>Homogeneity</th>\n",
       "      <th>Dissimilarity</th>\n",
       "      <th>Correlation</th>\n",
       "      <th>Coarseness</th>\n",
       "    </tr>\n",
       "  </thead>\n",
       "  <tbody>\n",
       "    <tr>\n",
       "      <td>0</td>\n",
       "      <td>Image1</td>\n",
       "      <td>0</td>\n",
       "      <td>6.535339</td>\n",
       "      <td>619.587845</td>\n",
       "      <td>24.891522</td>\n",
       "      <td>0.109059</td>\n",
       "      <td>4.276477</td>\n",
       "      <td>18.900575</td>\n",
       "      <td>98.613971</td>\n",
       "      <td>0.293314</td>\n",
       "      <td>0.086033</td>\n",
       "      <td>0.530941</td>\n",
       "      <td>4.473346</td>\n",
       "      <td>0.981939</td>\n",
       "      <td>7.458341e-155</td>\n",
       "    </tr>\n",
       "    <tr>\n",
       "      <td>1</td>\n",
       "      <td>Image2</td>\n",
       "      <td>0</td>\n",
       "      <td>8.749969</td>\n",
       "      <td>805.957634</td>\n",
       "      <td>28.389393</td>\n",
       "      <td>0.266538</td>\n",
       "      <td>3.718116</td>\n",
       "      <td>14.464618</td>\n",
       "      <td>63.858816</td>\n",
       "      <td>0.475051</td>\n",
       "      <td>0.225674</td>\n",
       "      <td>0.651352</td>\n",
       "      <td>3.220072</td>\n",
       "      <td>0.988834</td>\n",
       "      <td>7.458341e-155</td>\n",
       "    </tr>\n",
       "    <tr>\n",
       "      <td>2</td>\n",
       "      <td>Image3</td>\n",
       "      <td>1</td>\n",
       "      <td>7.341095</td>\n",
       "      <td>1143.808219</td>\n",
       "      <td>33.820234</td>\n",
       "      <td>0.001467</td>\n",
       "      <td>5.061750</td>\n",
       "      <td>26.479563</td>\n",
       "      <td>81.867206</td>\n",
       "      <td>0.031917</td>\n",
       "      <td>0.001019</td>\n",
       "      <td>0.268275</td>\n",
       "      <td>5.981800</td>\n",
       "      <td>0.978014</td>\n",
       "      <td>7.458341e-155</td>\n",
       "    </tr>\n",
       "    <tr>\n",
       "      <td>3</td>\n",
       "      <td>Image4</td>\n",
       "      <td>1</td>\n",
       "      <td>5.958145</td>\n",
       "      <td>959.711985</td>\n",
       "      <td>30.979219</td>\n",
       "      <td>0.001477</td>\n",
       "      <td>5.677977</td>\n",
       "      <td>33.428845</td>\n",
       "      <td>151.229741</td>\n",
       "      <td>0.032024</td>\n",
       "      <td>0.001026</td>\n",
       "      <td>0.243851</td>\n",
       "      <td>7.700919</td>\n",
       "      <td>0.964189</td>\n",
       "      <td>7.458341e-155</td>\n",
       "    </tr>\n",
       "    <tr>\n",
       "      <td>4</td>\n",
       "      <td>Image5</td>\n",
       "      <td>0</td>\n",
       "      <td>7.315231</td>\n",
       "      <td>729.540579</td>\n",
       "      <td>27.010009</td>\n",
       "      <td>0.146761</td>\n",
       "      <td>4.283221</td>\n",
       "      <td>19.079108</td>\n",
       "      <td>174.988756</td>\n",
       "      <td>0.343849</td>\n",
       "      <td>0.118232</td>\n",
       "      <td>0.501140</td>\n",
       "      <td>6.834689</td>\n",
       "      <td>0.972789</td>\n",
       "      <td>7.458341e-155</td>\n",
       "    </tr>\n",
       "  </tbody>\n",
       "</table>\n",
       "</div>"
      ],
      "text/plain": [
       "    Image  Class      Mean     Variance  Standard Deviation   Entropy  \\\n",
       "0  Image1      0  6.535339   619.587845           24.891522  0.109059   \n",
       "1  Image2      0  8.749969   805.957634           28.389393  0.266538   \n",
       "2  Image3      1  7.341095  1143.808219           33.820234  0.001467   \n",
       "3  Image4      1  5.958145   959.711985           30.979219  0.001477   \n",
       "4  Image5      0  7.315231   729.540579           27.010009  0.146761   \n",
       "\n",
       "   Skewness   Kurtosis    Contrast    Energy       ASM  Homogeneity  \\\n",
       "0  4.276477  18.900575   98.613971  0.293314  0.086033     0.530941   \n",
       "1  3.718116  14.464618   63.858816  0.475051  0.225674     0.651352   \n",
       "2  5.061750  26.479563   81.867206  0.031917  0.001019     0.268275   \n",
       "3  5.677977  33.428845  151.229741  0.032024  0.001026     0.243851   \n",
       "4  4.283221  19.079108  174.988756  0.343849  0.118232     0.501140   \n",
       "\n",
       "   Dissimilarity  Correlation     Coarseness  \n",
       "0       4.473346     0.981939  7.458341e-155  \n",
       "1       3.220072     0.988834  7.458341e-155  \n",
       "2       5.981800     0.978014  7.458341e-155  \n",
       "3       7.700919     0.964189  7.458341e-155  \n",
       "4       6.834689     0.972789  7.458341e-155  "
      ]
     },
     "execution_count": 4,
     "metadata": {},
     "output_type": "execute_result"
    }
   ],
   "source": [
    "# Lectura del .csv\n",
    "dfmr = pd.read_csv('Brain Tumor.csv')\n",
    "# Primera vista a la base de datos.\n",
    "dfmr.head()"
   ]
  },
  {
   "cell_type": "code",
   "execution_count": 7,
   "metadata": {},
   "outputs": [
    {
     "data": {
      "text/plain": [
       "Index(['Image', 'Class', 'Mean', 'Variance', 'Standard Deviation', 'Entropy',\n",
       "       'Skewness', 'Kurtosis', 'Contrast', 'Energy', 'ASM', 'Homogeneity',\n",
       "       'Dissimilarity', 'Correlation', 'Coarseness'],\n",
       "      dtype='object')"
      ]
     },
     "execution_count": 7,
     "metadata": {},
     "output_type": "execute_result"
    }
   ],
   "source": [
    "#Notamos la cantidad de información que podemos obtener a partir del preprocesamiento de las imágenes, a estos datos\n",
    "# los denotaremos como atributos.\n",
    "dfmr.columns"
   ]
  },
  {
   "cell_type": "code",
   "execution_count": 8,
   "metadata": {},
   "outputs": [
    {
     "name": "stdout",
     "output_type": "stream",
     "text": [
      "<class 'pandas.core.frame.DataFrame'>\n",
      "RangeIndex: 3762 entries, 0 to 3761\n",
      "Data columns (total 15 columns):\n",
      "Image                 3762 non-null object\n",
      "Class                 3762 non-null int64\n",
      "Mean                  3762 non-null float64\n",
      "Variance              3762 non-null float64\n",
      "Standard Deviation    3762 non-null float64\n",
      "Entropy               3762 non-null float64\n",
      "Skewness              3762 non-null float64\n",
      "Kurtosis              3762 non-null float64\n",
      "Contrast              3762 non-null float64\n",
      "Energy                3762 non-null float64\n",
      "ASM                   3762 non-null float64\n",
      "Homogeneity           3762 non-null float64\n",
      "Dissimilarity         3762 non-null float64\n",
      "Correlation           3762 non-null float64\n",
      "Coarseness            3762 non-null float64\n",
      "dtypes: float64(13), int64(1), object(1)\n",
      "memory usage: 441.0+ KB\n"
     ]
    }
   ],
   "source": [
    "# Conocer la información que contienen\n",
    "dfmr.info()\n",
    "# Vemos que no continen valores nulos o NaN y por lo tanto podemos considerar que \n",
    "# la base de datos está \"Limpia\""
   ]
  },
  {
   "cell_type": "code",
   "execution_count": 9,
   "metadata": {},
   "outputs": [
    {
     "name": "stdout",
     "output_type": "stream",
     "text": [
      "Total de datos en Patient ID: 3762\n",
      "Total de Pacientes reales (únicos): 3762\n",
      "---------------------Columnas-------------------\n",
      "['Image', 'Class', 'Mean', 'Variance', 'Standard Deviation', 'Entropy', 'Skewness', 'Kurtosis', 'Contrast', 'Energy', 'ASM', 'Homogeneity', 'Dissimilarity', 'Correlation', 'Coarseness']\n"
     ]
    }
   ],
   "source": [
    "# Conocer si la información dada es única para cada valor \n",
    "# o si existe dentro de la BD valores de pacientes repetidos.\n",
    "\n",
    "# De manera similar a la sintaxis SQL hacemos un conteo en la columna 'PatientID'\n",
    "# Columna que guarda las identificaciones por número de cada uno de los pacientes\n",
    "print('Total de datos en Patient ID:',dfmr['Image'].count())\n",
    "\n",
    "#De los cuales podemos obtener cuantos son únicos:\n",
    "print('Total de Pacientes reales (únicos):',dfmr['Image'].value_counts().shape[0])\n",
    "\n",
    "# Podemos suponer los datos a utilizar pertenecen a pacientes distintos (por ahora...)\n",
    "\n",
    "# Conocemos también las llaves es decir cómo están organizadas las columnas\n",
    "columns = dfmr.keys()\n",
    "columns = list(columns)\n",
    "print('---------------------Columnas-------------------')\n",
    "print(columns)\n",
    "# Esto se realiza para observar si existe un desbalance en la BD."
   ]
  },
  {
   "cell_type": "code",
   "execution_count": null,
   "metadata": {},
   "outputs": [],
   "source": []
  }
 ],
 "metadata": {
  "kernelspec": {
   "display_name": "Python 3",
   "language": "python",
   "name": "python3"
  },
  "language_info": {
   "codemirror_mode": {
    "name": "ipython",
    "version": 3
   },
   "file_extension": ".py",
   "mimetype": "text/x-python",
   "name": "python",
   "nbconvert_exporter": "python",
   "pygments_lexer": "ipython3",
   "version": "3.7.4"
  }
 },
 "nbformat": 4,
 "nbformat_minor": 2
}
